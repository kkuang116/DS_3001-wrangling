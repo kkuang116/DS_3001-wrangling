{
  "cells": [
    {
      "cell_type": "markdown",
      "id": "13ad028b-72b7-43ed-aa78-96fd4e518040",
      "metadata": {
        "id": "13ad028b-72b7-43ed-aa78-96fd4e518040"
      },
      "source": [
        "# Assignment: Data Wrangling\n",
        "# Name: Kevin Kuang (kwk5ny)\n",
        "## `! git clone https://github.com/DS3001/wrangling`\n",
        "\n"
      ]
    },
    {
      "cell_type": "code",
      "source": [
        "! git clone https://github.com/DS3001/wrangling"
      ],
      "metadata": {
        "colab": {
          "base_uri": "https://localhost:8080/"
        },
        "id": "O5VrzUP7iYct",
        "outputId": "74716be2-0b68-44ee-aaa0-ac3960e2f584"
      },
      "id": "O5VrzUP7iYct",
      "execution_count": 1,
      "outputs": [
        {
          "output_type": "stream",
          "name": "stdout",
          "text": [
            "Cloning into 'wrangling'...\n",
            "remote: Enumerating objects: 63, done.\u001b[K\n",
            "remote: Counting objects: 100% (42/42), done.\u001b[K\n",
            "remote: Compressing objects: 100% (34/34), done.\u001b[K\n",
            "remote: Total 63 (delta 22), reused 25 (delta 8), pack-reused 21\u001b[K\n",
            "Receiving objects: 100% (63/63), 6.75 MiB | 11.52 MiB/s, done.\n",
            "Resolving deltas: 100% (24/24), done.\n"
          ]
        }
      ]
    },
    {
      "cell_type": "markdown",
      "id": "5735a4d4-8be8-433a-a351-70eb8002e632",
      "metadata": {
        "id": "5735a4d4-8be8-433a-a351-70eb8002e632"
      },
      "source": [
        "**Q1.** Open the \"tidy_data.pdf\" document in the repo, which is a paper called Tidy Data by Hadley Wickham.\n",
        "\n",
        "  1. Read the abstract. What is this paper about?\n",
        "  2. Read the introduction. What is the \"tidy data standard\" intended to accomplish?\n",
        "  3. Read the intro to section 2. What does this sentence mean: \"Like families, tidy datasets are all alike but every messy dataset is messy in its own way.\" What does this sentence mean: \"For a given dataset, it’s usually easy to figure out what are observations and what are variables, but it is surprisingly difficult to precisely define variables and observations in general.\"\n",
        "  4. Read Section 2.2. How does Wickham define values, variables, and observations?\n",
        "  5. How is \"Tidy Data\" defined in section 2.3?\n",
        "  6. Read the intro to Section 3 and Section 3.1. What are the 5 most common problems with messy datasets? Why are the data in Table 4 messy? What is \"melting\" a dataset?\n",
        "  7. Why, specifically, is table 11 messy but table 12 tidy and \"molten\"?\n",
        "  8. Read Section 6. What is the \"chicken-and-egg\" problem with focusing on tidy data? What does Wickham hope happens in the future with further work on the subject of data wrangling?"
      ]
    },
    {
      "cell_type": "markdown",
      "source": [
        "##**Q1. Responses**\n",
        "\n",
        "1.\n",
        "\n",
        "2.\n",
        "\n",
        "3.\n",
        "\n",
        "4.\n",
        "\n",
        "5.\n",
        "\n",
        "6.\n",
        "\n",
        "7.\n",
        "\n",
        "8.\n",
        "\n",
        "\n"
      ],
      "metadata": {
        "id": "or4xJ1ALlv6e"
      },
      "id": "or4xJ1ALlv6e"
    },
    {
      "cell_type": "markdown",
      "id": "da879ea7-8aac-48a3-b6c2-daea56d2e072",
      "metadata": {
        "id": "da879ea7-8aac-48a3-b6c2-daea56d2e072"
      },
      "source": [
        "**Q2.** This question provides some practice cleaning variables which have common problems.\n",
        "1. Numeric variable: For `./data/airbnb_hw.csv`, clean the `Price` variable as well as you can, and explain the choices you make. How many missing values do you end up with? (Hint: What happens to the formatting when a price goes over 999 dollars, say from 675 to 1,112?)\n",
        "2. Categorical variable: For the `./data/sharks.csv` data covered in the lecture, clean the \"Type\" variable as well as you can, and explain the choices you make.\n",
        "3. Dummy variable: For the pretrial data covered in the lecture, clean the `WhetherDefendantWasReleasedPretrial` variable as well as you can, and, in particular, replace missing values with `np.nan`.\n",
        "4. Missing values, not at random: For the pretrial data covered in the lecture, clean the `ImposedSentenceAllChargeInContactEvent` variable as well as you can, and explain the choices you make. (Hint: Look at the `SentenceTypeAllChargesAtConvictionInContactEvent` variable.)"
      ]
    },
    {
      "cell_type": "markdown",
      "source": [
        "##**Q2. Responses**"
      ],
      "metadata": {
        "id": "-qOXwgl0qchV"
      },
      "id": "-qOXwgl0qchV"
    },
    {
      "cell_type": "code",
      "source": [
        "#1\n",
        "import numpy as np\n",
        "import pandas as pd\n",
        "\n",
        "#airbnb = pd.read_csv()"
      ],
      "metadata": {
        "id": "fxeEOvYBqcQT"
      },
      "id": "fxeEOvYBqcQT",
      "execution_count": 3,
      "outputs": []
    },
    {
      "cell_type": "code",
      "source": [
        "#2\n",
        "\n",
        "sharks = pd.read_csv(\"/content/wrangling/data/sharks.csv\", low_memory=False)\n",
        "print(sharks['Type'])"
      ],
      "metadata": {
        "id": "Vulbtb3tq7Z3",
        "outputId": "fa90707d-f89d-4cd0-cdf7-0ec9d2ccab79",
        "colab": {
          "base_uri": "https://localhost:8080/"
        }
      },
      "id": "Vulbtb3tq7Z3",
      "execution_count": 5,
      "outputs": [
        {
          "output_type": "stream",
          "name": "stdout",
          "text": [
            "0       Unprovoked\n",
            "1         Provoked\n",
            "2       Unprovoked\n",
            "3       Unprovoked\n",
            "4       Unprovoked\n",
            "           ...    \n",
            "6457    Unprovoked\n",
            "6458    Unprovoked\n",
            "6459    Unprovoked\n",
            "6460    Unprovoked\n",
            "6461    Unprovoked\n",
            "Name: Type, Length: 6462, dtype: object\n"
          ]
        }
      ]
    },
    {
      "cell_type": "code",
      "source": [
        "#3\n",
        "url = 'http://www.vcsc.virginia.gov/pretrialdataproject/October%202017%20Cohort_Virginia%20Pretrial%20Data%20Project_Deidentified%20FINAL%20Update_10272021.csv'\n",
        "trial = pd.read_csv(url,low_memory=False)"
      ],
      "metadata": {
        "id": "86Qs90ikq8a_",
        "outputId": "26c5aaaa-8476-4a61-8825-6718ae206861",
        "colab": {
          "base_uri": "https://localhost:8080/"
        }
      },
      "id": "86Qs90ikq8a_",
      "execution_count": 9,
      "outputs": [
        {
          "output_type": "stream",
          "name": "stdout",
          "text": [
            "      InternalStudyID REQ_REC# Defendant_Sex Defendant_Race  \\\n",
            "0            ADI00001        1             M              W   \n",
            "1            ADI00007        3             M              B   \n",
            "2            ADI00008        4             M              W   \n",
            "3            CDI00036        6             M              B   \n",
            "4            CDI00038        7             F              W   \n",
            "...               ...      ...           ...            ...   \n",
            "22981        SJA00343    22839             M              B   \n",
            "22982        SJA00344                      F              W   \n",
            "22983        SJA00345    22841             M              B   \n",
            "22984        SJA00346    22842             F              B   \n",
            "22985        SJA00347    22843             M              B   \n",
            "\n",
            "      Defendant_BirthYear Defendant_Age  Defendant_AgeGroup  \\\n",
            "0                    1986            31                   3   \n",
            "1                    1956            60                   6   \n",
            "2                    1990            27                   3   \n",
            "3                    1989            27                   3   \n",
            "4                    1988            28                   3   \n",
            "...                   ...           ...                 ...   \n",
            "22981                1976            41                   4   \n",
            "22982                                                     9   \n",
            "22983                1981            36                   4   \n",
            "22984                1993            24                   2   \n",
            "22985                1985            31                   3   \n",
            "\n",
            "      Defendant_AgeatCurrentArrest  Defendant_AttorneyTypeAtCaseClosure  \\\n",
            "0                               31                                   99   \n",
            "1                               60                                    9   \n",
            "2                               27                                    9   \n",
            "3                               27                                    0   \n",
            "4                               28                                    0   \n",
            "...                            ...                                  ...   \n",
            "22981                           41                                    2   \n",
            "22982                                                                99   \n",
            "22983                           36                                    1   \n",
            "22984                           24                                    5   \n",
            "22985                           31                                    2   \n",
            "\n",
            "       Defendant_IndigencyStatus  ... NewFelonySexualAssaultArrest_OffDate  \\\n",
            "0                             99  ...                                        \n",
            "1                              9  ...                                        \n",
            "2                              9  ...                                        \n",
            "3                              0  ...                                        \n",
            "4                              0  ...                                        \n",
            "...                          ...  ...                                  ...   \n",
            "22981                          1  ...                                        \n",
            "22982                         99  ...                                        \n",
            "22983                          1  ...                                        \n",
            "22984                          0  ...                                        \n",
            "22985                          1  ...                                        \n",
            "\n",
            "      NewFelonySexualAssaultArrest_ArrestDate  \\\n",
            "0                                               \n",
            "1                                               \n",
            "2                                               \n",
            "3                                               \n",
            "4                                               \n",
            "...                                       ...   \n",
            "22981                                           \n",
            "22982                                           \n",
            "22983                                           \n",
            "22984                                           \n",
            "22985                                           \n",
            "\n",
            "       NewFelonySexualAssaultArrest_DaysBetweenContactEventandOffDate  \\\n",
            "0                                                                       \n",
            "1                                                                       \n",
            "2                                                                       \n",
            "3                                                                       \n",
            "4                                                                       \n",
            "...                                                  ...                \n",
            "22981                                                                   \n",
            "22982                                                                   \n",
            "22983                                                                   \n",
            "22984                                                                   \n",
            "22985                                                                   \n",
            "\n",
            "      NewFelonySexualAssaultArrest_DaysBetweenOffDateandArrestDate  \\\n",
            "0                                                    999             \n",
            "1                                                    999             \n",
            "2                                                    999             \n",
            "3                                                    999             \n",
            "4                                                    999             \n",
            "...                                                  ...             \n",
            "22981                                                999             \n",
            "22982                                                999             \n",
            "22983                                                999             \n",
            "22984                                                999             \n",
            "22985                                                999             \n",
            "\n",
            "       NewFelonySexualAssaultArrest_DaysBetweenReleaseDateandOffDate  \\\n",
            "0                                                    999               \n",
            "1                                                    999               \n",
            "2                                                    999               \n",
            "3                                                    999               \n",
            "4                                                    999               \n",
            "...                                                  ...               \n",
            "22981                                                999               \n",
            "22982                                                999               \n",
            "22983                                                999               \n",
            "22984                                                999               \n",
            "22985                                                999               \n",
            "\n",
            "       NewFelonySexualAssaultArrest_Disposition  \\\n",
            "0                                                 \n",
            "1                                                 \n",
            "2                                                 \n",
            "3                                                 \n",
            "4                                                 \n",
            "...                                         ...   \n",
            "22981                                             \n",
            "22982                                             \n",
            "22983                                             \n",
            "22984                                             \n",
            "22985                                             \n",
            "\n",
            "       Intertnalindicator_ReasonforExcludingFromFollowUpAnalysis  \\\n",
            "0                                                      4           \n",
            "1                                                      5           \n",
            "2                                                      5           \n",
            "3                                                      5           \n",
            "4                                                      0           \n",
            "...                                                  ...           \n",
            "22981                                                  0           \n",
            "22982                                                  3           \n",
            "22983                                                  0           \n",
            "22984                                                  0           \n",
            "22985                                                  0           \n",
            "\n",
            "       CriminalHistoryRecordsReturnedorCMSRecordsFoundforIndividual  \\\n",
            "0                                                      1              \n",
            "1                                                      1              \n",
            "2                                                      1              \n",
            "3                                                      1              \n",
            "4                                                      1              \n",
            "...                                                  ...              \n",
            "22981                                                  1              \n",
            "22982                                                                 \n",
            "22983                                                  1              \n",
            "22984                                                  1              \n",
            "22985                                                  1              \n",
            "\n",
            "      DispRecordFoundforChargesinOct2017Contact_Atleast1dispfound  \\\n",
            "0                                                      0            \n",
            "1                                                      1            \n",
            "2                                                      1            \n",
            "3                                                      1            \n",
            "4                                                      1            \n",
            "...                                                  ...            \n",
            "22981                                                  1            \n",
            "22982                                                  9            \n",
            "22983                                                  1            \n",
            "22984                                                  1            \n",
            "22985                                                  1            \n",
            "\n",
            "       CrimeCommission2021ReportClassificationofDefendants  \n",
            "0      Defendant could not be classified or tracked d...    \n",
            "1      Defendant Detained Entire Pre-Trial Period_Und...    \n",
            "2      Defendant Detained Entire Pre-Trial Period_Und...    \n",
            "3      Defendant Detained Entire Pre-Trial Period_Und...    \n",
            "4      New criminal offense punishable by incarcerati...    \n",
            "...                                                  ...    \n",
            "22981  New criminal offense punishable by incarcerati...    \n",
            "22982  Defendant could not be classified or tracked d...    \n",
            "22983  New criminal offense punishable by incarcerati...    \n",
            "22984  New criminal offense punishable by incarcerati...    \n",
            "22985  New criminal offense punishable by incarcerati...    \n",
            "\n",
            "[22986 rows x 709 columns]\n"
          ]
        }
      ]
    },
    {
      "cell_type": "code",
      "source": [
        "#4"
      ],
      "metadata": {
        "id": "mrUF75Axq9I1"
      },
      "id": "mrUF75Axq9I1",
      "execution_count": null,
      "outputs": []
    },
    {
      "cell_type": "markdown",
      "id": "649494cd-cfd6-4f80-992a-9994fc19e1d5",
      "metadata": {
        "id": "649494cd-cfd6-4f80-992a-9994fc19e1d5"
      },
      "source": [
        "**Q3.** Many important datasets contain a race variable, typically limited to a handful of values often including Black, White, Asian, Latino, and Indigenous. This question looks at data gathering efforts on this variable by the U.S. Federal government.\n",
        "\n",
        "1. How did the most recent US Census gather data on race?\n",
        "2. Why do we gather these data? What role do these kinds of data play in politics and society? Why does data quality matter?\n",
        "3. Please provide a constructive criticism of how the Census was conducted: What was done well? What do you think was missing? How should future large scale surveys be adjusted to best reflect the diversity of the population? Could some of the Census' good practices be adopted more widely to gather richer and more useful data?\n",
        "4. How did the Census gather data on sex and gender? Please provide a similar constructive criticism of their practices.\n",
        "5. When it comes to cleaning data, what concerns do you have about protected characteristics like sex, gender, sexual identity, or race? What challenges can you imagine arising when there are missing values? What good or bad practices might people adopt, and why?\n",
        "6. Suppose someone invented an algorithm to impute values for protected characteristics like race, gender, sex, or sexuality. What kinds of concerns would you have?"
      ]
    },
    {
      "cell_type": "markdown",
      "source": [
        "##**Q3. Responses**\n",
        "\n",
        "1.\n",
        "\n",
        "2.\n",
        "\n",
        "3.\n",
        "\n",
        "4.\n",
        "\n",
        "5.\n",
        "\n",
        "6."
      ],
      "metadata": {
        "id": "ne-RROSsljzI"
      },
      "id": "ne-RROSsljzI"
    }
  ],
  "metadata": {
    "colab": {
      "provenance": []
    },
    "kernelspec": {
      "display_name": "Python 3 (ipykernel)",
      "language": "python",
      "name": "python3"
    },
    "language_info": {
      "codemirror_mode": {
        "name": "ipython",
        "version": 3
      },
      "file_extension": ".py",
      "mimetype": "text/x-python",
      "name": "python",
      "nbconvert_exporter": "python",
      "pygments_lexer": "ipython3",
      "version": "3.10.4"
    }
  },
  "nbformat": 4,
  "nbformat_minor": 5
}