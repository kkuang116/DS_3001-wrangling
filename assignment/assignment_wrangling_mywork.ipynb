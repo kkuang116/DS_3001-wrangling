{
  "cells": [
    {
      "cell_type": "markdown",
      "id": "13ad028b-72b7-43ed-aa78-96fd4e518040",
      "metadata": {
        "id": "13ad028b-72b7-43ed-aa78-96fd4e518040"
      },
      "source": [
        "# Assignment: Data Wrangling\n",
        "# Name: Kevin Kuang (kwk5ny)\n",
        "## `! git clone https://github.com/DS3001/wrangling`\n",
        "# **[SEE Q1 & Q2]**\n",
        "\n"
      ]
    },
    {
      "cell_type": "code",
      "source": [
        "! git clone https://github.com/DS3001/wrangling"
      ],
      "metadata": {
        "colab": {
          "base_uri": "https://localhost:8080/"
        },
        "id": "O5VrzUP7iYct",
        "outputId": "0bce80c1-f44c-4617-95cd-06c803db3711"
      },
      "id": "O5VrzUP7iYct",
      "execution_count": 1,
      "outputs": [
        {
          "output_type": "stream",
          "name": "stdout",
          "text": [
            "Cloning into 'wrangling'...\n",
            "remote: Enumerating objects: 75, done.\u001b[K\n",
            "remote: Counting objects: 100% (36/36), done.\u001b[K\n",
            "remote: Compressing objects: 100% (26/26), done.\u001b[K\n",
            "remote: Total 75 (delta 27), reused 13 (delta 10), pack-reused 39\u001b[K\n",
            "Receiving objects: 100% (75/75), 6.25 MiB | 27.71 MiB/s, done.\n",
            "Resolving deltas: 100% (33/33), done.\n"
          ]
        }
      ]
    },
    {
      "cell_type": "markdown",
      "id": "5735a4d4-8be8-433a-a351-70eb8002e632",
      "metadata": {
        "id": "5735a4d4-8be8-433a-a351-70eb8002e632"
      },
      "source": [
        "**Q1.** Open the \"tidy_data.pdf\" document in the repo, which is a paper called Tidy Data by Hadley Wickham.\n",
        "\n",
        "  1. Read the abstract. What is this paper about?\n",
        "  2. Read the introduction. What is the \"tidy data standard\" intended to accomplish?\n",
        "  3. Read the intro to section 2. What does this sentence mean: \"Like families, tidy datasets are all alike but every messy dataset is messy in its own way.\" What does this sentence mean: \"For a given dataset, it’s usually easy to figure out what are observations and what are variables, but it is surprisingly difficult to precisely define variables and observations in general.\"\n",
        "  4. Read Section 2.2. How does Wickham define values, variables, and observations?\n",
        "  5. How is \"Tidy Data\" defined in section 2.3?\n",
        "  6. Read the intro to Section 3 and Section 3.1. What are the 5 most common problems with messy datasets? Why are the data in Table 4 messy? What is \"melting\" a dataset?\n",
        "  7. Why, specifically, is table 11 messy but table 12 tidy and \"molten\"?\n",
        "  8. Read Section 6. What is the \"chicken-and-egg\" problem with focusing on tidy data? What does Wickham hope happens in the future with further work on the subject of data wrangling?"
      ]
    },
    {
      "cell_type": "markdown",
      "source": [
        "##**Q1. Responses**\n",
        "\n",
        "1. This paper will discuss data tidying in the context of how it can provide an effective and more efficient way to clean data. The abstract states that because tidy datasets are structured in a specific way, they are easier to manipulate and offer an advantage due to their consistent structure. Examples and a case study are provided within the paper to reinforce the author's ideas.\n",
        "\n",
        "2. The goal of the tidy data standard/principles are intended to make initial data cleaning easier by detailing how certain data can be organized. The tidy datasets and tools work together to provide users with a simpler experience when it comes to trying to figure out the organization/logistical components of a dataset. Having a standard makes it easier to clean the initial data because the process can be similar each time.\n",
        "\n",
        "3. The first sentence is saying that although tidy datasets are similar (like families), they can still have differences that set them apart (and they own unique problems). For the second sentence, data can usually be grouped into categories or be arranged in particular ways. Knowing the specifics to how they are sorted can be a challenge- especially if there are no clear definitions provided.\n",
        "\n",
        "4. Values = make up a dataset (numbers or strings);\n",
        "  Variables = contains all values that measure the same underlying attribute across units (name, group, result);\n",
        "  Observations = all values measured on the same unit across attributes\n",
        "\n",
        "5. \"Standard way of mapping the meaning of a dataset to its structure\". Where each variable forms a column, observations form rows, and the combined observations form a table.\n",
        "\n",
        "6. Five most common problems with messy datasets: column headers are values, not variable names, multiple variables are stored in one column, variables are stored in both rows and columns, multiple types of observational units are stored in the same table, a single observational unit is stored in multiple tables. I think the data in Table 4 are messy because it doesn't seem like the most efficient way to organize the responses. Melting means to transform a dataset based on certain parameters (by creating new variables/converting columns variables).\n",
        "\n",
        "7. Table 11 looks messy because it is recording values that can essentially be stacked or combined to make it nicer to look at. For example, it is providing elements (temperature max and min) as separate rows, when these can be combined into column names and be represented in a single row (as seen in Table 12). For table 12a, the dataset is molten because some variables have been combined (for instance, date is its own column name now), but it's still not tidy because the \"element\" column contains names of variables. Table 12b is the tidy version which turns the \"element\" column of data into categories- such that the max and min can be displayed for each row of data.\n",
        "\n",
        "8. Chicken-and-egg problem: tidy tools and tidy data are linked but data cleaning should look to the bigger picture of things. Wickham hopes to improve on the tools we already have to develop better strategies for data wrangling in the future.  \n",
        "\n",
        "\n"
      ],
      "metadata": {
        "id": "or4xJ1ALlv6e"
      },
      "id": "or4xJ1ALlv6e"
    },
    {
      "cell_type": "markdown",
      "id": "da879ea7-8aac-48a3-b6c2-daea56d2e072",
      "metadata": {
        "id": "da879ea7-8aac-48a3-b6c2-daea56d2e072"
      },
      "source": [
        "**Q2.** This question provides some practice cleaning variables which have common problems.\n",
        "1. Numeric variable: For `./data/airbnb_hw.csv`, clean the `Price` variable as well as you can, and explain the choices you make. How many missing values do you end up with? (Hint: What happens to the formatting when a price goes over 999 dollars, say from 675 to 1,112?)\n",
        "2. Categorical variable: For the `./data/sharks.csv` data covered in the lecture, clean the \"Type\" variable as well as you can, and explain the choices you make.\n",
        "3. Dummy variable: For the pretrial data covered in the lecture, clean the `WhetherDefendantWasReleasedPretrial` variable as well as you can, and, in particular, replace missing values with `np.nan`.\n",
        "4. Missing values, not at random: For the pretrial data covered in the lecture, clean the `ImposedSentenceAllChargeInContactEvent` variable as well as you can, and explain the choices you make. (Hint: Look at the `SentenceTypeAllChargesAtConvictionInContactEvent` variable.)"
      ]
    },
    {
      "cell_type": "markdown",
      "source": [
        "##**Q2. Responses**"
      ],
      "metadata": {
        "id": "-qOXwgl0qchV"
      },
      "id": "-qOXwgl0qchV"
    },
    {
      "cell_type": "code",
      "source": [
        "# QUESTION 1\n",
        "import numpy as np\n",
        "import pandas as pd\n",
        "\n",
        "airbnb = pd.read_csv(\"/content/wrangling/assignment/data/airbnb_hw.csv\", low_memory=False)"
      ],
      "metadata": {
        "id": "fxeEOvYBqcQT"
      },
      "id": "fxeEOvYBqcQT",
      "execution_count": 2,
      "outputs": []
    },
    {
      "cell_type": "code",
      "source": [
        "airbnb.head()\n",
        "print(airbnb.shape, '\\n')\n",
        "\n",
        "price = airbnb[\"Price\"]\n",
        "price.unique()          # original dataset has 30478 entries, across 14 columns"
      ],
      "metadata": {
        "colab": {
          "base_uri": "https://localhost:8080/"
        },
        "id": "kZKHtjXpHemN",
        "outputId": "aad00165-414c-4f23-e413-af9a2e77ca47"
      },
      "id": "kZKHtjXpHemN",
      "execution_count": 3,
      "outputs": [
        {
          "output_type": "stream",
          "name": "stdout",
          "text": [
            "(30478, 13) \n",
            "\n"
          ]
        },
        {
          "output_type": "execute_result",
          "data": {
            "text/plain": [
              "array(['145', '37', '28', '199', '549', '149', '250', '90', '270', '290',\n",
              "       '170', '59', '49', '68', '285', '75', '100', '150', '700', '125',\n",
              "       '175', '40', '89', '95', '99', '499', '120', '79', '110', '180',\n",
              "       '143', '230', '350', '135', '85', '60', '70', '55', '44', '200',\n",
              "       '165', '115', '74', '84', '129', '50', '185', '80', '190', '140',\n",
              "       '45', '65', '225', '600', '109', '1,990', '73', '240', '72', '105',\n",
              "       '155', '160', '42', '132', '117', '295', '280', '159', '107', '69',\n",
              "       '239', '220', '399', '130', '375', '585', '275', '139', '260',\n",
              "       '35', '133', '300', '289', '179', '98', '195', '29', '27', '39',\n",
              "       '249', '192', '142', '169', '1,000', '131', '138', '113', '122',\n",
              "       '329', '101', '475', '238', '272', '308', '126', '235', '315',\n",
              "       '248', '128', '56', '207', '450', '215', '210', '385', '445',\n",
              "       '136', '247', '118', '77', '76', '92', '198', '205', '299', '222',\n",
              "       '245', '104', '153', '349', '114', '320', '292', '226', '420',\n",
              "       '500', '325', '307', '78', '265', '108', '123', '189', '32', '58',\n",
              "       '86', '219', '800', '335', '63', '229', '425', '67', '87', '1,200',\n",
              "       '158', '650', '234', '310', '695', '400', '166', '119', '62',\n",
              "       '168', '340', '479', '43', '395', '144', '52', '47', '529', '187',\n",
              "       '209', '233', '82', '269', '163', '172', '305', '156', '550',\n",
              "       '435', '137', '124', '48', '279', '330', '5,000', '134', '378',\n",
              "       '97', '277', '64', '193', '147', '186', '264', '30', '3,000',\n",
              "       '112', '94', '379', '57', '415', '236', '410', '214', '88', '66',\n",
              "       '71', '171', '157', '545', '1,500', '83', '96', '1,800', '81',\n",
              "       '188', '380', '255', '505', '54', '33', '174', '93', '740', '640',\n",
              "       '1,300', '440', '599', '357', '1,239', '495', '127', '5,999',\n",
              "       '178', '348', '152', '242', '183', '253', '750', '259', '365',\n",
              "       '273', '197', '397', '103', '389', '355', '559', '38', '203',\n",
              "       '999', '141', '162', '333', '698', '46', '360', '895', '10', '41',\n",
              "       '206', '281', '449', '388', '212', '102', '201', '2,750', '4,750',\n",
              "       '432', '675', '167', '390', '298', '339', '194', '302', '211',\n",
              "       '595', '191', '53', '361', '480', '8,000', '4,500', '459', '997',\n",
              "       '345', '216', '218', '111', '735', '276', '91', '490', '850',\n",
              "       '398', '36', '775', '267', '625', '336', '2,500', '176', '725',\n",
              "       '3,750', '469', '106', '460', '287', '575', '227', '263', '25',\n",
              "       '228', '208', '177', '880', '148', '116', '685', '470', '217',\n",
              "       '164', '61', '645', '699', '405', '252', '319', '268', '419',\n",
              "       '343', '525', '311', '840', '154', '294', '950', '409', '184',\n",
              "       '257', '204', '241', '2,000', '412', '121', '288', '196', '900',\n",
              "       '647', '524', '1,750', '309', '510', '1,495', '1,700', '799',\n",
              "       '383', '372', '492', '327', '1,999', '656', '224', '173', '875',\n",
              "       '1,170', '795', '690', '146', '465', '1,100', '151', '274', '429',\n",
              "       '825', '282', '256', '1,111', '620', '271', '161', '51', '855',\n",
              "       '579', '1,174', '430', '20', '899', '649', '485', '181', '455',\n",
              "       '4,000', '243', '342', '590', '560', '374', '437', '232', '359',\n",
              "       '985', '31', '244', '254', '723', '237', '428', '370', '34',\n",
              "       '1,400', '580', '2,520', '221', '749', '1,600', '2,695', '306',\n",
              "       '202', '680', '570', '520', '223', '2,295', '213', '1,065', '346',\n",
              "       '24', '286', '296', '266', '26', '995', '1,368', '393', '182',\n",
              "       '635', '258', '780', '589', '347', '1,250', '1,350', '446',\n",
              "       '3,200', '1,050', '1,650', '1,550', '975', '323', '6,500', '2,499',\n",
              "       '1,850', '2,250', '715', '461', '540', '356', '439', '384', '569',\n",
              "       '1,900', '22', '785', '626', '830', '318', '444', '321', '401',\n",
              "       '1,499', '888', '369', '770', '386', '366', '344', '630', '313',\n",
              "       '597', '262', '509', '10,000', '278', '312', '789', '1,195', '422',\n",
              "       '21', '765', '3,500', '945', '326', '3,100', '2,486', '3,390',\n",
              "       '1,356', '2,599', '472', '454', '328', '396', '291'], dtype=object)"
            ]
          },
          "metadata": {},
          "execution_count": 3
        }
      ]
    },
    {
      "cell_type": "code",
      "source": [
        "# After a price goes above 999 dollars, a comma is being added to denote that the money value has reached a thousand.\n",
        "# This can pose a problem because the data are stored as strings instead of\n",
        "# ints (which can be manipulated or used for calculations easier)\n",
        "\n",
        "price = airbnb[\"Price\"]\n",
        "price = price.str.replace(',','')      # take out the commas and replace with empty str\n",
        "print(price.unique(), \"\\n\")\n",
        "price = pd.to_numeric(price, errors=\"coerce\")  # type casting from str to numeric\n",
        "print(price.unique(), \"\\n\")\n",
        "print('Missing Entries: \\n', sum(price.isnull()))    # how many missing entries\n",
        "\n",
        "\n",
        "# I tried this method as well, which didn't use pandas to type cast the\n",
        "# strings to ints by using try-except:\n",
        "\n",
        "#new_var = []\n",
        "#for string in price:\n",
        "#  try:\n",
        "#    new_var.append(int(string))   # type casting the strings to ints\n",
        "#  except ValueError:              # if they cannot be type-casted, then skip over them\n",
        "#    continue"
      ],
      "metadata": {
        "colab": {
          "base_uri": "https://localhost:8080/"
        },
        "id": "54CbHwnVOKiD",
        "outputId": "81b46f12-19d6-4cdf-e50a-90bb0861d03b"
      },
      "id": "54CbHwnVOKiD",
      "execution_count": 4,
      "outputs": [
        {
          "output_type": "stream",
          "name": "stdout",
          "text": [
            "['145' '37' '28' '199' '549' '149' '250' '90' '270' '290' '170' '59' '49'\n",
            " '68' '285' '75' '100' '150' '700' '125' '175' '40' '89' '95' '99' '499'\n",
            " '120' '79' '110' '180' '143' '230' '350' '135' '85' '60' '70' '55' '44'\n",
            " '200' '165' '115' '74' '84' '129' '50' '185' '80' '190' '140' '45' '65'\n",
            " '225' '600' '109' '1990' '73' '240' '72' '105' '155' '160' '42' '132'\n",
            " '117' '295' '280' '159' '107' '69' '239' '220' '399' '130' '375' '585'\n",
            " '275' '139' '260' '35' '133' '300' '289' '179' '98' '195' '29' '27' '39'\n",
            " '249' '192' '142' '169' '1000' '131' '138' '113' '122' '329' '101' '475'\n",
            " '238' '272' '308' '126' '235' '315' '248' '128' '56' '207' '450' '215'\n",
            " '210' '385' '445' '136' '247' '118' '77' '76' '92' '198' '205' '299'\n",
            " '222' '245' '104' '153' '349' '114' '320' '292' '226' '420' '500' '325'\n",
            " '307' '78' '265' '108' '123' '189' '32' '58' '86' '219' '800' '335' '63'\n",
            " '229' '425' '67' '87' '1200' '158' '650' '234' '310' '695' '400' '166'\n",
            " '119' '62' '168' '340' '479' '43' '395' '144' '52' '47' '529' '187' '209'\n",
            " '233' '82' '269' '163' '172' '305' '156' '550' '435' '137' '124' '48'\n",
            " '279' '330' '5000' '134' '378' '97' '277' '64' '193' '147' '186' '264'\n",
            " '30' '3000' '112' '94' '379' '57' '415' '236' '410' '214' '88' '66' '71'\n",
            " '171' '157' '545' '1500' '83' '96' '1800' '81' '188' '380' '255' '505'\n",
            " '54' '33' '174' '93' '740' '640' '1300' '440' '599' '357' '1239' '495'\n",
            " '127' '5999' '178' '348' '152' '242' '183' '253' '750' '259' '365' '273'\n",
            " '197' '397' '103' '389' '355' '559' '38' '203' '999' '141' '162' '333'\n",
            " '698' '46' '360' '895' '10' '41' '206' '281' '449' '388' '212' '102'\n",
            " '201' '2750' '4750' '432' '675' '167' '390' '298' '339' '194' '302' '211'\n",
            " '595' '191' '53' '361' '480' '8000' '4500' '459' '997' '345' '216' '218'\n",
            " '111' '735' '276' '91' '490' '850' '398' '36' '775' '267' '625' '336'\n",
            " '2500' '176' '725' '3750' '469' '106' '460' '287' '575' '227' '263' '25'\n",
            " '228' '208' '177' '880' '148' '116' '685' '470' '217' '164' '61' '645'\n",
            " '699' '405' '252' '319' '268' '419' '343' '525' '311' '840' '154' '294'\n",
            " '950' '409' '184' '257' '204' '241' '2000' '412' '121' '288' '196' '900'\n",
            " '647' '524' '1750' '309' '510' '1495' '1700' '799' '383' '372' '492'\n",
            " '327' '1999' '656' '224' '173' '875' '1170' '795' '690' '146' '465'\n",
            " '1100' '151' '274' '429' '825' '282' '256' '1111' '620' '271' '161' '51'\n",
            " '855' '579' '1174' '430' '20' '899' '649' '485' '181' '455' '4000' '243'\n",
            " '342' '590' '560' '374' '437' '232' '359' '985' '31' '244' '254' '723'\n",
            " '237' '428' '370' '34' '1400' '580' '2520' '221' '749' '1600' '2695'\n",
            " '306' '202' '680' '570' '520' '223' '2295' '213' '1065' '346' '24' '286'\n",
            " '296' '266' '26' '995' '1368' '393' '182' '635' '258' '780' '589' '347'\n",
            " '1250' '1350' '446' '3200' '1050' '1650' '1550' '975' '323' '6500' '2499'\n",
            " '1850' '2250' '715' '461' '540' '356' '439' '384' '569' '1900' '22' '785'\n",
            " '626' '830' '318' '444' '321' '401' '1499' '888' '369' '770' '386' '366'\n",
            " '344' '630' '313' '597' '262' '509' '10000' '278' '312' '789' '1195'\n",
            " '422' '21' '765' '3500' '945' '326' '3100' '2486' '3390' '1356' '2599'\n",
            " '472' '454' '328' '396' '291'] \n",
            "\n",
            "[  145    37    28   199   549   149   250    90   270   290   170    59\n",
            "    49    68   285    75   100   150   700   125   175    40    89    95\n",
            "    99   499   120    79   110   180   143   230   350   135    85    60\n",
            "    70    55    44   200   165   115    74    84   129    50   185    80\n",
            "   190   140    45    65   225   600   109  1990    73   240    72   105\n",
            "   155   160    42   132   117   295   280   159   107    69   239   220\n",
            "   399   130   375   585   275   139   260    35   133   300   289   179\n",
            "    98   195    29    27    39   249   192   142   169  1000   131   138\n",
            "   113   122   329   101   475   238   272   308   126   235   315   248\n",
            "   128    56   207   450   215   210   385   445   136   247   118    77\n",
            "    76    92   198   205   299   222   245   104   153   349   114   320\n",
            "   292   226   420   500   325   307    78   265   108   123   189    32\n",
            "    58    86   219   800   335    63   229   425    67    87  1200   158\n",
            "   650   234   310   695   400   166   119    62   168   340   479    43\n",
            "   395   144    52    47   529   187   209   233    82   269   163   172\n",
            "   305   156   550   435   137   124    48   279   330  5000   134   378\n",
            "    97   277    64   193   147   186   264    30  3000   112    94   379\n",
            "    57   415   236   410   214    88    66    71   171   157   545  1500\n",
            "    83    96  1800    81   188   380   255   505    54    33   174    93\n",
            "   740   640  1300   440   599   357  1239   495   127  5999   178   348\n",
            "   152   242   183   253   750   259   365   273   197   397   103   389\n",
            "   355   559    38   203   999   141   162   333   698    46   360   895\n",
            "    10    41   206   281   449   388   212   102   201  2750  4750   432\n",
            "   675   167   390   298   339   194   302   211   595   191    53   361\n",
            "   480  8000  4500   459   997   345   216   218   111   735   276    91\n",
            "   490   850   398    36   775   267   625   336  2500   176   725  3750\n",
            "   469   106   460   287   575   227   263    25   228   208   177   880\n",
            "   148   116   685   470   217   164    61   645   699   405   252   319\n",
            "   268   419   343   525   311   840   154   294   950   409   184   257\n",
            "   204   241  2000   412   121   288   196   900   647   524  1750   309\n",
            "   510  1495  1700   799   383   372   492   327  1999   656   224   173\n",
            "   875  1170   795   690   146   465  1100   151   274   429   825   282\n",
            "   256  1111   620   271   161    51   855   579  1174   430    20   899\n",
            "   649   485   181   455  4000   243   342   590   560   374   437   232\n",
            "   359   985    31   244   254   723   237   428   370    34  1400   580\n",
            "  2520   221   749  1600  2695   306   202   680   570   520   223  2295\n",
            "   213  1065   346    24   286   296   266    26   995  1368   393   182\n",
            "   635   258   780   589   347  1250  1350   446  3200  1050  1650  1550\n",
            "   975   323  6500  2499  1850  2250   715   461   540   356   439   384\n",
            "   569  1900    22   785   626   830   318   444   321   401  1499   888\n",
            "   369   770   386   366   344   630   313   597   262   509 10000   278\n",
            "   312   789  1195   422    21   765  3500   945   326  3100  2486  3390\n",
            "  1356  2599   472   454   328   396   291] \n",
            "\n",
            "Missing Entries: \n",
            " 0\n"
          ]
        }
      ]
    },
    {
      "cell_type": "code",
      "source": [
        "# QUESTION 2\n",
        "sharks = pd.read_csv(\"/content/wrangling/data/sharks.csv\", low_memory=False)\n",
        "print(sharks['Type'])  # getting a general overview"
      ],
      "metadata": {
        "id": "Vulbtb3tq7Z3",
        "outputId": "69c3f4ab-ab01-4b4e-dae9-c569390922e9",
        "colab": {
          "base_uri": "https://localhost:8080/"
        }
      },
      "id": "Vulbtb3tq7Z3",
      "execution_count": 5,
      "outputs": [
        {
          "output_type": "stream",
          "name": "stdout",
          "text": [
            "0       Unprovoked\n",
            "1         Provoked\n",
            "2       Unprovoked\n",
            "3       Unprovoked\n",
            "4       Unprovoked\n",
            "           ...    \n",
            "6457    Unprovoked\n",
            "6458    Unprovoked\n",
            "6459    Unprovoked\n",
            "6460    Unprovoked\n",
            "6461    Unprovoked\n",
            "Name: Type, Length: 6462, dtype: object\n"
          ]
        }
      ]
    },
    {
      "cell_type": "code",
      "source": [
        "print(sharks[\"Type\"].unique())\n",
        "print(sharks[\"Type\"].value_counts())   # examining the value counts\n",
        "print(sharks.shape, '\\n')              # 6462 rows, 258 columns?\n",
        "type = sharks[\"Type\"]                  # creating a type variable which with values from the old one\n",
        "# note for myself: sharks[\"type\"] = sharks[\"Type\"] will make a new column in the existing DF"
      ],
      "metadata": {
        "id": "kDKdm9iMZlcy",
        "outputId": "d693e46f-8553-4ef4-a12b-287ce0888c38",
        "colab": {
          "base_uri": "https://localhost:8080/"
        }
      },
      "id": "kDKdm9iMZlcy",
      "execution_count": 6,
      "outputs": [
        {
          "output_type": "stream",
          "name": "stdout",
          "text": [
            "['Unprovoked' 'Provoked' 'Questionable' 'Watercraft' 'Unconfirmed'\n",
            " 'Unverified' 'Invalid' 'Under investigation' 'Boating' 'Sea Disaster' nan\n",
            " 'Boat' 'Boatomg']\n",
            "Unprovoked             4716\n",
            "Provoked                593\n",
            "Invalid                 552\n",
            "Sea Disaster            239\n",
            "Watercraft              142\n",
            "Boat                    109\n",
            "Boating                  92\n",
            "Questionable             10\n",
            "Unconfirmed               1\n",
            "Unverified                1\n",
            "Under investigation       1\n",
            "Boatomg                   1\n",
            "Name: Type, dtype: int64\n",
            "(6462, 257) \n",
            "\n"
          ]
        }
      ]
    },
    {
      "cell_type": "code",
      "source": [
        "# combine similar cartegories\n",
        "type = type.replace([\"Boat\", \"Boating\", \"Sea Disaster\", \"Boatomg\"], \"Watercraft\") # merging categories into the \"Watercraft\"\n",
        "# removing values that aren't of interest\n",
        "type = type.replace([\"Invalid\", \"Questionable\", \"Unconfirmed\", \"Unverified\", \"Under investigation\"], np.nan)\n",
        "\n",
        "type.value_counts()     # seeing the values when combined into similar categories\n"
      ],
      "metadata": {
        "id": "1MBwqZ47X8iX",
        "outputId": "85c7e2de-ed9f-45b6-e0f3-843e5b58abe4",
        "colab": {
          "base_uri": "https://localhost:8080/"
        }
      },
      "id": "1MBwqZ47X8iX",
      "execution_count": 7,
      "outputs": [
        {
          "output_type": "execute_result",
          "data": {
            "text/plain": [
              "Unprovoked    4716\n",
              "Provoked       593\n",
              "Watercraft     583\n",
              "Name: Type, dtype: int64"
            ]
          },
          "metadata": {},
          "execution_count": 7
        }
      ]
    },
    {
      "cell_type": "code",
      "source": [
        "# QUESTION 3\n",
        "url = 'http://www.vcsc.virginia.gov/pretrialdataproject/October%202017%20Cohort_Virginia%20Pretrial%20Data%20Project_Deidentified%20FINAL%20Update_10272021.csv'\n",
        "trial = pd.read_csv(url,low_memory=False)"
      ],
      "metadata": {
        "id": "86Qs90ikq8a_"
      },
      "id": "86Qs90ikq8a_",
      "execution_count": 8,
      "outputs": []
    },
    {
      "cell_type": "code",
      "source": [
        "trial.head()\n",
        "released_pretrial = trial[\"WhetherDefendantWasReleasedPretrial\"]"
      ],
      "metadata": {
        "id": "bsj_Mt6UfGS9"
      },
      "id": "bsj_Mt6UfGS9",
      "execution_count": 9,
      "outputs": []
    },
    {
      "cell_type": "code",
      "source": [
        "# 0=not released; 1=released; 9=unclear\n",
        "released_pretrial = released_pretrial.replace(9, np.nan) # removing the 9 category entirely\n",
        "print(released_pretrial.value_counts())\n",
        "sum(released_pretrial.isnull()) # missing the 31 values from the 9 category\n",
        "trial[\"WhetherDefendantWasReleasedPretrial\"] = released_pretrial  # replacing column with cleaned values\n",
        "del released_pretrial  # deleting the cleaned value column after"
      ],
      "metadata": {
        "id": "dZ5wRTkTgBJg",
        "outputId": "99fcf42f-ca12-4e1e-e18b-f15ab6d86831",
        "colab": {
          "base_uri": "https://localhost:8080/"
        }
      },
      "id": "dZ5wRTkTgBJg",
      "execution_count": 10,
      "outputs": [
        {
          "output_type": "stream",
          "name": "stdout",
          "text": [
            "1.0    19154\n",
            "0.0     3801\n",
            "Name: WhetherDefendantWasReleasedPretrial, dtype: int64\n"
          ]
        }
      ]
    },
    {
      "cell_type": "code",
      "source": [
        "# QUESTION 4\n",
        "imposed_sentence = trial[\"ImposedSentenceAllChargeInContactEvent\"]\n",
        "# examining the \"SentenceTypeAllChargesAtConvictionInContactEvent\" to understand it better\n",
        "sentence_type = trial[\"SentenceTypeAllChargesAtConvictionInContactEvent\"]\n",
        "#print(sentence_type.unique())\n",
        "#print(sentence_type.value_counts())\n",
        "\n",
        "#print(imposed_sentence.unique(), \"\\n\")    # looking at the values for this variable\n",
        "# there were some empty strings \"\" but everything else looked ok\n",
        "imposed_sentence = pd.to_numeric(imposed_sentence, errors=\"coerce\")  # type casting from str to numeric\n",
        "imposed = imposed_sentence.isnull()   # returns T for missing components/F for non-missing cells/dummy\n",
        "print(np.sum(imposed), \"\\n\")  # 9053 missing entries\n",
        "print(imposed.unique())\n",
        "\n",
        "# according to the codebook- 551.\n",
        "# 0 -- probation\n",
        "# 1 -- jail up to 12 months\n",
        "# 2 -- prison (one year or more)\n",
        "# 4 -- other, all charges in cohort contact resulted in pending, dismissed\n",
        "# 9 -- N/A (record not found)\n",
        "print(pd.crosstab(imposed, sentence_type), \"\\n\")\n",
        "\n",
        "# replacing values with .mask\n",
        "imposed_sentence = imposed_sentence.mask(sentence_type == 4, 0) # replace imposed sentence w/ 0 if == 4\n",
        "imposed_sentence = imposed_sentence.mask(sentence_type == 9, np.nan) # if == 9, replace\n",
        "\n",
        "imposed = imposed_sentence.isnull() # update dummy\n",
        "print(pd.crosstab(imposed, sentence_type), \"\\n\")\n",
        "print(np.sum(imposed), \"\\n\")   # examining the missing values now --> 274\n",
        "\n",
        "trial[\"ImposedSentenceAllChargeInContactEvent\"] = imposed_sentence\n",
        "del imposed_sentence, sentence_type # deleting the temporary variables"
      ],
      "metadata": {
        "id": "mrUF75Axq9I1",
        "outputId": "fed4e4fc-545e-47f9-ac79-c3aa106e9285",
        "colab": {
          "base_uri": "https://localhost:8080/"
        }
      },
      "id": "mrUF75Axq9I1",
      "execution_count": 49,
      "outputs": [
        {
          "output_type": "stream",
          "name": "stdout",
          "text": [
            "274 \n",
            "\n",
            "[ True False]\n",
            "SentenceTypeAllChargesAtConvictionInContactEvent     0     1    2     4    9\n",
            "ImposedSentenceAllChargeInContactEvent                                      \n",
            "False                                             8720  4299  914  8779    0\n",
            "True                                                 0     0    0     0  274 \n",
            "\n",
            "SentenceTypeAllChargesAtConvictionInContactEvent     0     1    2     4    9\n",
            "ImposedSentenceAllChargeInContactEvent                                      \n",
            "False                                             8720  4299  914  8779    0\n",
            "True                                                 0     0    0     0  274 \n",
            "\n",
            "274 \n",
            "\n"
          ]
        }
      ]
    },
    {
      "cell_type": "markdown",
      "id": "649494cd-cfd6-4f80-992a-9994fc19e1d5",
      "metadata": {
        "id": "649494cd-cfd6-4f80-992a-9994fc19e1d5"
      },
      "source": [
        "**Q3.** Many important datasets contain a race variable, typically limited to a handful of values often including Black, White, Asian, Latino, and Indigenous. This question looks at data gathering efforts on this variable by the U.S. Federal government.\n",
        "\n",
        "1. How did the most recent US Census gather data on race?\n",
        "2. Why do we gather these data? What role do these kinds of data play in politics and society? Why does data quality matter?\n",
        "3. Please provide a constructive criticism of how the Census was conducted: What was done well? What do you think was missing? How should future large scale surveys be adjusted to best reflect the diversity of the population? Could some of the Census' good practices be adopted more widely to gather richer and more useful data?\n",
        "4. How did the Census gather data on sex and gender? Please provide a similar constructive criticism of their practices.\n",
        "5. When it comes to cleaning data, what concerns do you have about protected characteristics like sex, gender, sexual identity, or race? What challenges can you imagine arising when there are missing values? What good or bad practices might people adopt, and why?\n",
        "6. Suppose someone invented an algorithm to impute values for protected characteristics like race, gender, sex, or sexuality. What kinds of concerns would you have?"
      ]
    }
  ],
  "metadata": {
    "colab": {
      "provenance": []
    },
    "kernelspec": {
      "display_name": "Python 3 (ipykernel)",
      "language": "python",
      "name": "python3"
    },
    "language_info": {
      "codemirror_mode": {
        "name": "ipython",
        "version": 3
      },
      "file_extension": ".py",
      "mimetype": "text/x-python",
      "name": "python",
      "nbconvert_exporter": "python",
      "pygments_lexer": "ipython3",
      "version": "3.10.4"
    }
  },
  "nbformat": 4,
  "nbformat_minor": 5
}